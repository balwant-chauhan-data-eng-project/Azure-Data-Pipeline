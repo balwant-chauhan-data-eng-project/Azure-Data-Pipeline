{
 "cells": [
  {
   "cell_type": "code",
   "execution_count": 0,
   "metadata": {
    "application/vnd.databricks.v1+cell": {
     "cellMetadata": {
      "byteLimit": 2048000,
      "rowLimit": 10000
     },
     "inputWidgets": {},
     "nuid": "4dbfca97-21d9-45a4-a9ba-91dcc6990469",
     "showTitle": false,
     "title": ""
    }
   },
   "outputs": [
    {
     "output_type": "execute_result",
     "data": {
      "text/plain": [
       "[FileInfo(path='dbfs:/mnt/silver/SalesLT/Address/', name='Address/', size=0, modificationTime=1726070313000),\n",
       " FileInfo(path='dbfs:/mnt/silver/SalesLT/Customer/', name='Customer/', size=0, modificationTime=1726070332000),\n",
       " FileInfo(path='dbfs:/mnt/silver/SalesLT/CustomerAddress/', name='CustomerAddress/', size=0, modificationTime=1726070748000),\n",
       " FileInfo(path='dbfs:/mnt/silver/SalesLT/Product/', name='Product/', size=0, modificationTime=1726070758000),\n",
       " FileInfo(path='dbfs:/mnt/silver/SalesLT/ProductCategory/', name='ProductCategory/', size=0, modificationTime=1726070768000),\n",
       " FileInfo(path='dbfs:/mnt/silver/SalesLT/ProductDescription/', name='ProductDescription/', size=0, modificationTime=1726070777000),\n",
       " FileInfo(path='dbfs:/mnt/silver/SalesLT/ProductModel/', name='ProductModel/', size=0, modificationTime=1726070786000),\n",
       " FileInfo(path='dbfs:/mnt/silver/SalesLT/ProductModelProductDescription/', name='ProductModelProductDescription/', size=0, modificationTime=1726070795000),\n",
       " FileInfo(path='dbfs:/mnt/silver/SalesLT/SalesOrderDetail/', name='SalesOrderDetail/', size=0, modificationTime=1726070803000),\n",
       " FileInfo(path='dbfs:/mnt/silver/SalesLT/SalesOrderHeader/', name='SalesOrderHeader/', size=0, modificationTime=1726070812000)]"
      ]
     },
     "execution_count": 9,
     "metadata": {},
     "output_type": "execute_result"
    }
   ],
   "source": [
    "dbutils.fs.ls('mnt/silver/SalesLT')"
   ]
  },
  {
   "cell_type": "code",
   "execution_count": 0,
   "metadata": {
    "application/vnd.databricks.v1+cell": {
     "cellMetadata": {
      "byteLimit": 2048000,
      "rowLimit": 10000
     },
     "inputWidgets": {},
     "nuid": "65774daa-1dba-4e96-8108-c89170328837",
     "showTitle": false,
     "title": ""
    }
   },
   "outputs": [
    {
     "output_type": "execute_result",
     "data": {
      "text/plain": [
       "[FileInfo(path='dbfs:/mnt/gold/SalesLT/', name='SalesLT/', size=0, modificationTime=1726070515000)]"
      ]
     },
     "execution_count": 2,
     "metadata": {},
     "output_type": "execute_result"
    }
   ],
   "source": [
    "dbutils.fs.ls('mnt/gold/')"
   ]
  },
  {
   "cell_type": "code",
   "execution_count": 0,
   "metadata": {
    "application/vnd.databricks.v1+cell": {
     "cellMetadata": {
      "byteLimit": 2048000,
      "rowLimit": 10000
     },
     "inputWidgets": {},
     "nuid": "1d9eca37-aee8-44dc-ac7a-f9ab7a1a349f",
     "showTitle": false,
     "title": ""
    }
   },
   "outputs": [],
   "source": [
    "input_path = 'dbfs:/mnt/silver/SalesLT/ '"
   ]
  },
  {
   "cell_type": "code",
   "execution_count": 0,
   "metadata": {
    "application/vnd.databricks.v1+cell": {
     "cellMetadata": {
      "byteLimit": 2048000,
      "rowLimit": 10000
     },
     "inputWidgets": {},
     "nuid": "510a753d-337b-470d-99b0-5d0829c2d73a",
     "showTitle": false,
     "title": ""
    }
   },
   "outputs": [],
   "source": [
    "# listing tables\n",
    "tables_name = []\n",
    "for i in dbutils.fs.ls('dbfs:/mnt/silver/SalesLT/'):\n",
    "    tables_name.append(i.name.split('/')[0])\n"
   ]
  },
  {
   "cell_type": "code",
   "execution_count": 0,
   "metadata": {
    "application/vnd.databricks.v1+cell": {
     "cellMetadata": {
      "byteLimit": 2048000,
      "rowLimit": 10000
     },
     "inputWidgets": {},
     "nuid": "2c88bf3a-f971-4a04-bf60-19c637b61f30",
     "showTitle": false,
     "title": ""
    }
   },
   "outputs": [
    {
     "output_type": "execute_result",
     "data": {
      "text/plain": [
       "['Address',\n",
       " 'Customer',\n",
       " 'CustomerAddress',\n",
       " 'Product',\n",
       " 'ProductCategory',\n",
       " 'ProductDescription',\n",
       " 'ProductModel',\n",
       " 'ProductModelProductDescription',\n",
       " 'SalesOrderDetail',\n",
       " 'SalesOrderHeader']"
      ]
     },
     "execution_count": 5,
     "metadata": {},
     "output_type": "execute_result"
    }
   ],
   "source": [
    "tables_name"
   ]
  },
  {
   "cell_type": "markdown",
   "metadata": {
    "application/vnd.databricks.v1+cell": {
     "cellMetadata": {
      "byteLimit": 2048000,
      "rowLimit": 10000
     },
     "inputWidgets": {},
     "nuid": "1c5e6ac8-bd1a-4010-8e05-d5af525e34a4",
     "showTitle": false,
     "title": ""
    }
   },
   "source": [
    "DOING TRANFORMATION FOR ALL TABLES (CHANGING THE COLUMN NAMES)"
   ]
  },
  {
   "cell_type": "code",
   "execution_count": 0,
   "metadata": {
    "application/vnd.databricks.v1+cell": {
     "cellMetadata": {
      "byteLimit": 2048000,
      "rowLimit": 10000
     },
     "inputWidgets": {},
     "nuid": "c7aa1c4a-7326-49bf-b2a2-e3a5f81d5844",
     "showTitle": false,
     "title": ""
    }
   },
   "outputs": [],
   "source": [
    "for name in tables_name:\n",
    "    # Construct the path for reading the Delta table\n",
    "    path = f'/mnt/silver/SalesLT/{name}'\n",
    "\n",
    "    # Load the DataFrame\n",
    "    df = spark.read.format('delta').load(path)\n",
    "\n",
    "    # Get the list of old column names\n",
    "    old_columns = df.columns\n",
    "\n",
    "    # Create a list to store transformed column names\n",
    "    new_columns = []\n",
    "\n",
    "    # Rename columns from CamelCase to snake_case\n",
    "    for col in old_columns:\n",
    "        new_col = col[0]  # Start with the first character\n",
    "\n",
    "        # Iterate over the rest of the characters\n",
    "        for char in col[1:]:\n",
    "            if char.isupper():\n",
    "                new_col += '_'  # Insert an underscore before uppercase letters\n",
    "                new_col += char.lower()  # Convert uppercase letter to lowercase\n",
    "            else:\n",
    "                new_col += char\n",
    "\n",
    "        # Check for duplicate column names and skip if necessary\n",
    "        if new_col in new_columns:\n",
    "            print(f\"Skipping column {col} as it results in a duplicate name '{new_col}'\")\n",
    "            new_columns.append(col)  # Keep the old name if duplicate found\n",
    "        else:\n",
    "            new_columns.append(new_col)\n",
    "\n",
    "    # Rename all columns in one step using toDF\n",
    "    df = df.toDF(*new_columns)\n",
    "\n",
    "    # Define the output path for saving the transformed DataFrame\n",
    "    output_path = f'/mnt/gold/SalesLT/{name}/'\n",
    "\n",
    "    # Write the DataFrame to Delta format\n",
    "    df.write.format('delta').mode('overwrite').save(output_path)\n",
    "\n"
   ]
  },
  {
   "cell_type": "code",
   "execution_count": 0,
   "metadata": {
    "application/vnd.databricks.v1+cell": {
     "cellMetadata": {
      "byteLimit": 2048000,
      "rowLimit": 10000
     },
     "inputWidgets": {},
     "nuid": "ce6b0598-e196-4de6-81df-5d15d88768c0",
     "showTitle": false,
     "title": ""
    }
   },
   "outputs": [],
   "source": []
  }
 ],
 "metadata": {
  "application/vnd.databricks.v1+notebook": {
   "dashboards": [],
   "environmentMetadata": {
    "base_environment": "",
    "client": "1"
   },
   "language": "python",
   "notebookMetadata": {
    "pythonIndentUnit": 4
   },
   "notebookName": "silver-to-gold",
   "widgets": {}
  }
 },
 "nbformat": 4,
 "nbformat_minor": 0
}
